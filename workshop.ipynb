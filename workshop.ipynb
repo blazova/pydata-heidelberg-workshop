{
 "cells": [
  {
   "cell_type": "markdown",
   "metadata": {},
   "source": [
    "# Voilà Workshop\n",
    "\n",
    "## Create a new environment\n",
    "\n",
    "```bash\n",
    "git clone https://github.com/jtpio/pydata-heidelberg-workshop\n",
    "cd pydata-heidelberg-workshop/\n",
    "\n",
    "conda env create\n",
    "```\n",
    "\n",
    "This will install a few useful packages for creating dashboards.\n",
    "\n",
    "[Optional] To install JupyterLab extensions:\n",
    "\n",
    "```bash\n",
    "chmod +x ./postBuild\n",
    "```\n",
    "\n",
    "Then activate the environment and install other packages you would like to use:\n",
    "\n",
    "```bash\n",
    "conda activate voila-starter-pack\n",
    "conda install -c conda-forge pandas scipy ...\n",
    "```\n",
    "\n",
    "## Create a new Jupyter notebook\n",
    "\n",
    "### Start from scratch\n",
    "\n",
    "You can create a new notebook from scratch by adding new code cells below:"
   ]
  },
  {
   "cell_type": "code",
   "execution_count": null,
   "metadata": {},
   "outputs": [],
   "source": [
    "print('hello world')"
   ]
  },
  {
   "cell_type": "markdown",
   "metadata": {},
   "source": [
    "### Use your own notebook\n",
    "\n",
    "If you have a notebook you would like to use, go ahead!\n",
    "\n",
    "For example we could take the [Gradient Descent](https://github.com/voila-dashboards/voila-material/blob/master/gradient_descent.ipynb) notebook from the gallery."
   ]
  },
  {
   "cell_type": "markdown",
   "metadata": {},
   "source": [
    "### Start from an example\n",
    "\n",
    "Otherwise, here is a example that uses `pandas`, `ipyleaflet` and `bqplot`: "
   ]
  },
  {
   "cell_type": "code",
   "execution_count": null,
   "metadata": {},
   "outputs": [],
   "source": [
    "import os\n",
    "import json\n",
    "\n",
    "import numpy as np\n",
    "import pandas as pd\n",
    "\n",
    "from ipywidgets import Dropdown\n",
    "\n",
    "from bqplot import Lines, Figure, LinearScale, DateScale, Axis\n",
    "\n",
    "from ipyleaflet import Map, GeoJSON, WidgetControl, FullScreenControl"
   ]
  },
  {
   "cell_type": "code",
   "execution_count": null,
   "metadata": {},
   "outputs": [],
   "source": [
    "data = pd.read_json(os.path.abspath('nations.json'))"
   ]
  },
  {
   "cell_type": "code",
   "execution_count": null,
   "metadata": {},
   "outputs": [],
   "source": [
    "def clean_data(data):\n",
    "    for column in ['income', 'lifeExpectancy', 'population']:\n",
    "        data = data.drop(data[data[column].apply(len) <= 4].index)\n",
    "    return data\n",
    "\n",
    "def extrap_interp(data):\n",
    "    data = np.array(data)\n",
    "    x_range = np.arange(1800, 2009, 1.)\n",
    "    y_range = np.interp(x_range, data[:, 0], data[:, 1])\n",
    "    return y_range\n",
    "\n",
    "def extrap_data(data):\n",
    "    for column in ['income', 'lifeExpectancy', 'population']:\n",
    "        data[column] = data[column].apply(extrap_interp)\n",
    "    return data"
   ]
  },
  {
   "cell_type": "code",
   "execution_count": null,
   "metadata": {},
   "outputs": [],
   "source": [
    "data = clean_data(data)\n",
    "data = extrap_data(data)\n",
    "\n",
    "date_start = pd.datetime(1800, 12, 31)\n",
    "date_end = pd.datetime(2009, 12, 31)\n",
    "\n",
    "date_scale = DateScale(min=date_start, max=date_end)\n",
    "\n",
    "date_data = pd.date_range(start=date_start, end=date_end, freq='A', normalize=True)\n",
    "\n",
    "country_name = 'Angola'\n",
    "data_name = 'income'\n",
    "\n",
    "x_data = data[data.name == country_name][data_name].values[0]\n",
    "\n",
    "x_scale = LinearScale()\n",
    "\n",
    "lines = Lines(x=date_data, y=x_data, scales={'x': date_scale, 'y': x_scale})\n",
    "\n",
    "ax_x = Axis(label='Year', scale=date_scale, num_ticks=10, tick_format='%Y')\n",
    "ax_y = Axis(label=data_name.capitalize(), scale=x_scale, orientation='vertical', side='left')\n",
    "\n",
    "figure = Figure(axes=[ax_x, ax_y], title=country_name, marks=[lines], animation_duration=500,\n",
    "                layout={'height': '300px', 'width': '600px'})"
   ]
  },
  {
   "cell_type": "code",
   "execution_count": null,
   "metadata": {},
   "outputs": [],
   "source": [
    "def update_figure(country_name, data_name):\n",
    "    lines.y = data[data.name == country_name][data_name].values[0]\n",
    "    ax_y.label = data_name.capitalize()\n",
    "    figure.title = country_name"
   ]
  },
  {
   "cell_type": "code",
   "execution_count": null,
   "metadata": {},
   "outputs": [],
   "source": [
    "with open('./countries.geo.json') as f:\n",
    "    countries = json.load(f)"
   ]
  },
  {
   "cell_type": "code",
   "execution_count": null,
   "metadata": {},
   "outputs": [],
   "source": [
    "m = Map(zoom=3)\n",
    "\n",
    "geo = GeoJSON(data=countries, style={'fillColor': 'white', 'weight': 0.5}, hover_style={'fillColor': '#1f77b4'}, name='Countries')\n",
    "m.add_layer(geo)\n",
    "\n",
    "m.layout.height = '800px'\n",
    "\n",
    "m"
   ]
  },
  {
   "cell_type": "code",
   "execution_count": null,
   "metadata": {},
   "outputs": [],
   "source": [
    "m.add_control(FullScreenControl())"
   ]
  },
  {
   "cell_type": "code",
   "execution_count": null,
   "metadata": {},
   "outputs": [],
   "source": [
    "widget_control1 = WidgetControl(widget=figure, position='bottomright')\n",
    "\n",
    "m.add_control(widget_control1)\n",
    "\n",
    "def on_hover(event, feature, **kwargs):\n",
    "    global country_name\n",
    "\n",
    "    country_name = feature['properties']['name']\n",
    "    update_figure(country_name, data_name)\n",
    "\n",
    "geo.on_hover(on_hover)"
   ]
  },
  {
   "cell_type": "code",
   "execution_count": null,
   "metadata": {},
   "outputs": [],
   "source": [
    "dropdown = Dropdown(\n",
    "    options=['income', 'population', 'lifeExpectancy'],\n",
    "    value=data_name,\n",
    "    description='Plotting:'\n",
    ")\n",
    "\n",
    "def on_click(change):\n",
    "    global data_name\n",
    "\n",
    "    data_name = change['new']\n",
    "    update_figure(country_name, data_name)\n",
    "\n",
    "dropdown.observe(on_click, 'value')\n",
    "\n",
    "widget_control2 = WidgetControl(widget=dropdown, position='bottomleft')\n",
    "\n",
    "m.add_control(widget_control2)"
   ]
  },
  {
   "cell_type": "markdown",
   "metadata": {},
   "source": [
    "## Test the dashboard in JupyterLab or Classic Notebook\n",
    "\n",
    "Use the JupyterLab extension or Classic Notebook extension to test the Voilà application.\n",
    "\n",
    "### JupyterLab Preview Extension\n",
    "\n",
    "![render-with-voila](./img/render-with-voila.gif)\n",
    "\n",
    "## Classic Notebook Extension\n",
    "\n",
    "![nbextension](img/voila-nbextension-button.png)"
   ]
  },
  {
   "cell_type": "markdown",
   "metadata": {},
   "source": [
    "## [Optional] Serve the dashboard using the `voila` CLI\n",
    "\n",
    "If you would like to serve the dashboard as a separate application, open a new terminal and run:\n",
    "\n",
    "```bash\n",
    "voila workshop.ipynb\n",
    "```"
   ]
  },
  {
   "cell_type": "markdown",
   "metadata": {},
   "source": [
    "## Choose a template\n",
    "\n",
    "Here are a few templates you can choose from:\n",
    "\n",
    "- https://github.com/voila-dashboards/voila-reveal\n",
    "\n",
    "- https://github.com/voila-dashboards/voila-material\n",
    "\n",
    "- https://github.com/voila-dashboards/voila-vuetify\n",
    "\n",
    "- https://github.com/voila-dashboards/voila-gridstack\n",
    "\n",
    "\n",
    "For simplicity and elegance, we can go for `voila-material`.\n",
    "\n",
    "Then open a new terminal and run the following command:\n",
    "\n",
    "```bash\n",
    "voila examples/gradient_descent.ipynb --template=material \n",
    "```"
   ]
  },
  {
   "cell_type": "markdown",
   "metadata": {},
   "source": [
    "## Deployment\n",
    "\n",
    "Finally, we would like to deploy and expose our dashboard to the public!\n",
    "\n",
    "The documentation provides several options for deploying dashboards: https://voila.readthedocs.io/en/latest/deploy.html\n",
    "\n",
    "Here we will explore 3 options:\n",
    "\n",
    "- ngrok\n",
    "- Binder\n",
    "- Heroku\n",
    "\n",
    "### ngrok\n",
    "\n",
    "To quickly share your notebook with anyone, follow the steps at: https://voila.readthedocs.io/en/latest/deploy.html#sharing-voila-applications-with-ngrok\n",
    "\n",
    "### Binder\n",
    "\n",
    "To deploy the dashboard to Binder, follow the steps at: https://voila.readthedocs.io/en/latest/deploy.html#deployment-on-binder\n",
    "\n",
    "### Heroku\n",
    "\n",
    "To deploy the dashboard to Heroku, follow the steps at: https://voila.readthedocs.io/en/latest/deploy.html#deployment-on-heroku"
   ]
  },
  {
   "cell_type": "markdown",
   "metadata": {},
   "source": [
    "## Add the dashboard to the gallery?\n",
    "\n",
    "If you worked on your own notebook, and deployed it to Binder, maybe you would like to add it to the Gallery?\n",
    "\n",
    "If so, follow the steps at https://github.com/voila-gallery/voila-gallery.github.io#contributing-new-examples!"
   ]
  }
 ],
 "metadata": {
  "kernelspec": {
   "display_name": "Python 3",
   "language": "python",
   "name": "python3"
  },
  "language_info": {
   "codemirror_mode": {
    "name": "ipython",
    "version": 3
   },
   "file_extension": ".py",
   "mimetype": "text/x-python",
   "name": "python",
   "nbconvert_exporter": "python",
   "pygments_lexer": "ipython3",
   "version": "3.7.6"
  },
  "toc-autonumbering": false,
  "toc-showmarkdowntxt": false,
  "widgets": {
   "application/vnd.jupyter.widget-state+json": {
    "state": {},
    "version_major": 2,
    "version_minor": 0
   }
  }
 },
 "nbformat": 4,
 "nbformat_minor": 4
}
